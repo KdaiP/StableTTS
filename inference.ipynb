{
 "cells": [
  {
   "cell_type": "code",
   "execution_count": null,
   "metadata": {},
   "outputs": [],
   "source": [
    "from IPython.display import Audio, display\n",
    "import torch\n",
    "\n",
    "from api import StableTTSAPI\n",
    "from cached_path import cached_path\n",
    "\n",
    "device = 'cuda' if torch.cuda.is_available() else 'cpu'\n",
    "\n",
    "tts_model_path = str(cached_path('hf://KdaiP/StableTTS1.1/StableTTS/checkpoint_0.pt')) # or path to StableTTS checkpoint\n",
    "vocoder_model_path = str(cached_path('hf://KdaiP/StableTTS1.1/vocoders/firefly-gan-base-generator.ckpt')) # or path to vocoder checkpoint\n",
    "vocoder_type = 'ffgan' # ffgan or vocos\n",
    "\n",
    "# vocoder_model_path = './vocoders/pretrained/vocos.pt'\n",
    "# vocoder_type = 'vocos'\n",
    "\n",
    "model = StableTTSAPI(tts_model_path, vocoder_model_path, vocoder_type)\n",
    "model.to(device)\n",
    "\n",
    "tts_param, vocoder_param = model.get_params()\n",
    "print(f'tts_param: {tts_param}, vocoder_param: {vocoder_param}')"
   ]
  },
  {
   "cell_type": "code",
   "execution_count": null,
   "metadata": {},
   "outputs": [],
   "source": [
    "text = '你指尖跳动的电光，是我永恒不变的信仰。唯我超电磁炮永世长存！'\n",
    "ref_audio = './audio_1.wav'\n",
    "language = 'chinese' # support chinese, japanese and english\n",
    "solver = 'dopri5' # recommend using euler, midpoint or dopri5\n",
    "steps = 30\n",
    "cfg = 3 # recommend 1-4\n",
    "\n",
    "audio_output, mel_output = model.inference(text, ref_audio, language, steps, 1, 1, solver, cfg)\n",
    "\n",
    "display(Audio(ref_audio))\n",
    "display(Audio(audio_output, rate=model.mel_config.sample_rate))"
   ]
  }
 ],
 "metadata": {
  "kernelspec": {
   "display_name": "lxn_vits",
   "language": "python",
   "name": "python3"
  },
  "language_info": {
   "codemirror_mode": {
    "name": "ipython",
    "version": 3
   },
   "file_extension": ".py",
   "mimetype": "text/x-python",
   "name": "python",
   "nbconvert_exporter": "python",
   "pygments_lexer": "ipython3",
   "version": "3.11.8"
  }
 },
 "nbformat": 4,
 "nbformat_minor": 2
}
